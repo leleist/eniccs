{
 "cells": [
  {
   "cell_type": "code",
   "id": "initial_id",
   "metadata": {
    "collapsed": true,
    "ExecuteTime": {
     "end_time": "2024-08-13T14:00:06.353575Z",
     "start_time": "2024-08-13T14:00:04.433838Z"
    }
   },
   "source": [
    "import matplotlib.pyplot as plt\n",
    "\n",
    "import eniccs"
   ],
   "outputs": [
    {
     "name": "stdout",
     "output_type": "stream",
     "text": [
      "hs_image.py loaded\n"
     ]
    }
   ],
   "execution_count": 1
  },
  {
   "metadata": {
    "ExecuteTime": {
     "end_time": "2024-08-13T14:00:06.938244Z",
     "start_time": "2024-08-13T14:00:06.924946Z"
    }
   },
   "cell_type": "code",
   "source": [
    "# dir_path = r\"example_data/ENMAP01-L2A-20231202T084146Z_001_V010400\"\n",
    "dir_path = r\"example_data/ENMAP01-L2A-20230612T085651Z_002_V010303\"\n",
    "\n"
   ],
   "id": "17bc15d387fff9df",
   "outputs": [],
   "execution_count": 2
  },
  {
   "metadata": {
    "ExecuteTime": {
     "end_time": "2024-08-13T14:00:14.163407Z",
     "start_time": "2024-08-13T14:00:13.742588Z"
    }
   },
   "cell_type": "code",
   "source": "eniccs_mask = eniccs(dir_path)",
   "id": "28e8ca77c9e6e437",
   "outputs": [
    {
     "ename": "TypeError",
     "evalue": "'module' object is not callable",
     "output_type": "error",
     "traceback": [
      "\u001B[1;31m---------------------------------------------------------------------------\u001B[0m",
      "\u001B[1;31mTypeError\u001B[0m                                 Traceback (most recent call last)",
      "Cell \u001B[1;32mIn[3], line 1\u001B[0m\n\u001B[1;32m----> 1\u001B[0m eniccs_mask \u001B[38;5;241m=\u001B[39m \u001B[43meniccs\u001B[49m\u001B[43m(\u001B[49m\u001B[43mdir_path\u001B[49m\u001B[43m)\u001B[49m\n",
      "\u001B[1;31mTypeError\u001B[0m: 'module' object is not callable"
     ]
    }
   ],
   "execution_count": 3
  },
  {
   "metadata": {},
   "cell_type": "code",
   "source": "# plot new cloud and cloudshadow mask side by side\n",
   "id": "36740cddaea0429c",
   "outputs": [],
   "execution_count": null
  },
  {
   "metadata": {},
   "cell_type": "code",
   "source": [
    "# plot new cloud and cloudshadow mask \n",
    "import matplotlib.pyplot as plt\n",
    "plt.imshow(eniccs_mask.new_cloud_mask[0,:,:])\n",
    "plt.show()\n",
    "\n",
    "plt.imshow(eniccs_mask.new_cloudshadow_mask[0,:,:])\n",
    "plt.show()"
   ],
   "id": "460205d5166958e6",
   "outputs": [],
   "execution_count": null
  },
  {
   "metadata": {},
   "cell_type": "code",
   "source": "eniccs_mask.new_cloud_mask",
   "id": "a0e6c9f553424e0b",
   "outputs": [],
   "execution_count": null
  }
 ],
 "metadata": {
  "kernelspec": {
   "display_name": "Python 3",
   "language": "python",
   "name": "python3"
  },
  "language_info": {
   "codemirror_mode": {
    "name": "ipython",
    "version": 2
   },
   "file_extension": ".py",
   "mimetype": "text/x-python",
   "name": "python",
   "nbconvert_exporter": "python",
   "pygments_lexer": "ipython2",
   "version": "2.7.6"
  }
 },
 "nbformat": 4,
 "nbformat_minor": 5
}
